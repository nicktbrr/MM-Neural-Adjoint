{
 "cells": [
  {
   "cell_type": "code",
   "execution_count": 1,
   "metadata": {},
   "outputs": [],
   "source": [
    "from mm_neural_adjoint import Network\n",
    "import torch\n",
    "import pandas as pd\n",
    "from torch.utils.data import DataLoader, TensorDataset\n",
    "from tqdm import tqdm"
   ]
  },
  {
   "cell_type": "code",
   "execution_count": 2,
   "metadata": {},
   "outputs": [],
   "source": [
    "X = pd.read_csv('data/data_x_tiny.csv', header=None, delimiter=' ')\n",
    "y = pd.read_csv('data/data_y_tiny.csv', header=None, delimiter=' ')\n",
    "\n",
    "X_tensor = torch.tensor(X.values, dtype=torch.float32)\n",
    "y_tensor = torch.tensor(y.values, dtype=torch.float32)"
   ]
  },
  {
   "cell_type": "markdown",
   "metadata": {},
   "source": [
    "# Neural Adjoint Training Example\n",
    "\n",
    "This example demonstrates how to train and evaluate a Neural Adjoint model using the MM-Neural-Adjoint package.\n",
    "\n",
    "## Data Preparation\n",
    "\n",
    "First, we create a dataset and split it into training, validation, and test sets:\n",
    "\n",
    "```python\n",
    "dataset = TensorDataset(X_tensor, y_tensor)\n",
    "\n",
    "# Split with 70-15-15 ratio\n",
    "total_size = len(dataset)\n",
    "train_size = int(0.7 * total_size)\n",
    "val_size = int(0.15 * total_size)\n",
    "test_size = total_size - train_size - val_size\n",
    "\n",
    "train_dataset, val_dataset, test_dataset = torch.utils.data.random_split(\n",
    "    dataset, [train_size, val_size, test_size]\n",
    ")\n",
    "```\n",
    "\n",
    "## DataLoader Configuration\n",
    "\n",
    "We create three DataLoaders with different batch sizes:\n",
    "- Training: batch size 10 with shuffling\n",
    "- Validation: batch size 10 with shuffling\n",
    "- Testing: batch size 1 (required for geometry evaluation) with shuffling\n",
    "\n",
    "```python\n",
    "train_loader = DataLoader(train_dataset, batch_size=10, shuffle=True)\n",
    "val_loader = DataLoader(val_dataset, batch_size=10, shuffle=True)\n",
    "test_loader = DataLoader(test_dataset, batch_size=1, shuffle=True)\n",
    "```\n",
    "\n",
    "## Model Setup\n",
    "\n",
    "Initialize the Neural Adjoint model with:\n",
    "- 8 input features (geometry dimensions)\n",
    "- 300 output features (spectrum dimensions)\n",
    "- Automatic device selection (GPU if available, otherwise CPU)\n",
    "\n",
    "```python\n",
    "device = torch.device('cuda' if torch.cuda.is_available() else 'cpu')\n",
    "model = Network(8, 300, device=device)\n",
    "```\n",
    "\n",
    "## Training\n",
    "\n",
    "Train the model for 100 epochs with progress tracking:\n",
    "- Uses tqdm for progress visualization\n",
    "- Saves the best model based on validation loss\n",
    "- Automatically logs metrics using MLflow\n",
    "\n",
    "```python\n",
    "EPOCHS = 100\n",
    "with tqdm(total=EPOCHS, desc='Training Progress') as pbar:\n",
    "    model.train(EPOCHS, train_loader, val_loader, progress_bar=pbar, save=True)\n",
    "```\n",
    "\n",
    "## Evaluation\n",
    "\n",
    "Finally, evaluate the model's geometry prediction capabilities:\n",
    "- Uses the test dataset with batch size 1\n",
    "- Performs inverse design to predict geometries from spectra\n",
    "\n",
    "```python\n",
    "model.evaluate_geometry(test_loader)\n",
    "```\n",
    "\n",
    "Note: Make sure your input tensors `X_tensor` and `y_tensor` are properly prepared before running this code."
   ]
  },
  {
   "cell_type": "code",
   "execution_count": 3,
   "metadata": {},
   "outputs": [],
   "source": [
    "dataset = TensorDataset(X_tensor, y_tensor)\n",
    "\n",
    "# Split the dataset into train, validation, and test\n",
    "total_size = len(dataset)\n",
    "train_size = int(0.7 * total_size)\n",
    "val_size = int(0.15 * total_size)\n",
    "test_size = total_size - train_size - val_size\n",
    "\n",
    "train_dataset, val_dataset, test_dataset = torch.utils.data.random_split(\n",
    "    dataset, [train_size, val_size, test_size]\n",
    ")\n",
    "\n",
    "# Create dataloaders\n",
    "train_loader = DataLoader(train_dataset, batch_size=10, shuffle=True)\n",
    "val_loader = DataLoader(val_dataset, batch_size=10, shuffle=True)\n",
    "test_loader = DataLoader(test_dataset, batch_size=1, shuffle=True)"
   ]
  },
  {
   "cell_type": "code",
   "execution_count": null,
   "metadata": {},
   "outputs": [],
   "source": [
    "device = torch.device('cuda' if torch.cuda.is_available() else 'cpu')\n",
    "\n",
    "model = Network(8, 300, device=device)\n",
    "\n",
    "EPOCHS = 100\n",
    "\n",
    "with tqdm(total=EPOCHS, desc='Training Progress') as pbar:\n",
    "    model.train(EPOCHS, train_loader, val_loader, progress_bar=pbar, save=True)\n",
    "\n",
    "\n",
    "model.evaluate_geometry(test_loader)"
   ]
  },
  {
   "cell_type": "code",
   "execution_count": 4,
   "metadata": {},
   "outputs": [
    {
     "name": "stdout",
     "output_type": "stream",
     "text": [
      "Successfully loaded model from checkpoints/best_model.pt\n",
      "tensor([-1., -1., -1., -1., -1., -1., -1., -1.])\n"
     ]
    }
   ],
   "source": [
    "device = torch.device('cuda' if torch.cuda.is_available() else 'cpu')\n",
    "model = Network(8, 300, device=device)\n",
    "\n",
    "\n",
    "model.load('checkpoints/best_model.pt')\n",
    "print(model.geometry_lower_bound)"
   ]
  },
  {
   "cell_type": "code",
   "execution_count": 8,
   "metadata": {},
   "outputs": [
    {
     "name": "stdout",
     "output_type": "stream",
     "text": [
      "(1, 300)\n"
     ]
    }
   ],
   "source": [
    "spectra = model.predict_spectra(X_tensor[0].unsqueeze(0))\n",
    "print(spectra.shape)"
   ]
  },
  {
   "cell_type": "code",
   "execution_count": 9,
   "metadata": {},
   "outputs": [
    {
     "name": "stderr",
     "output_type": "stream",
     "text": [
      "                                                                                           \r"
     ]
    },
    {
     "ename": "AttributeError",
     "evalue": "'tuple' object has no attribute 'shape'",
     "output_type": "error",
     "traceback": [
      "\u001b[31m---------------------------------------------------------------------------\u001b[39m",
      "\u001b[31mAttributeError\u001b[39m                            Traceback (most recent call last)",
      "\u001b[36mCell\u001b[39m\u001b[36m \u001b[39m\u001b[32mIn[9]\u001b[39m\u001b[32m, line 2\u001b[39m\n\u001b[32m      1\u001b[39m geometry = model.predict_geometry(y_tensor[\u001b[32m0\u001b[39m])\n\u001b[32m----> \u001b[39m\u001b[32m2\u001b[39m \u001b[38;5;28mprint\u001b[39m(\u001b[43mgeometry\u001b[49m\u001b[43m.\u001b[49m\u001b[43mshape\u001b[49m)\n",
      "\u001b[31mAttributeError\u001b[39m: 'tuple' object has no attribute 'shape'"
     ]
    }
   ],
   "source": [
    "Xpred_top, Ypred_top, MSE_top = model.predict_geometry(y_tensor[0])\n",
    "print(Xpred_top.shape, Ypred_top.shape, MSE_top.shape)\n"
   ]
  }
 ],
 "metadata": {
  "kernelspec": {
   "display_name": "na",
   "language": "python",
   "name": "python3"
  },
  "language_info": {
   "codemirror_mode": {
    "name": "ipython",
    "version": 3
   },
   "file_extension": ".py",
   "mimetype": "text/x-python",
   "name": "python",
   "nbconvert_exporter": "python",
   "pygments_lexer": "ipython3",
   "version": "3.11.11"
  }
 },
 "nbformat": 4,
 "nbformat_minor": 2
}
